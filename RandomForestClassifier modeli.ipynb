{
 "cells": [
  {
   "cell_type": "markdown",
   "id": "0b290fe0",
   "metadata": {},
   "source": [
    "🌤️ WeatherWise: Hava Durumu Tahmin Sistemi\n",
    "🌟 Problem Tanımı\n",
    "Hava durumu tahminleri, tarım, ulaşım, enerji yönetimi gibi birçok alanda kritik öneme sahiptir. Hatalı tahminler ekonomik kayıplara, lojistik aksamalara ve güvenlik sorunlarına yol açabilir. Bu çalışma, hava durumu tahminlerini daha isabetli hale getirmek için bir sınıflandırma modeli geliştirmeyi amaçlamaktadır. WeatherWise projesi ile bu soruna önemli bir çözüm sunulmaktadır.\n",
    "\n",
    "🚀 Çözüm Yaklaşımı\n",
    "Bu proje kapsamında, çeşitli hava durumu verilerini içeren bir veri seti kullanılarak bir sınıflandırma modeli geliştirilmiştir. Kullanılan veri seti aşağıdaki sütunları içermektedir:\n",
    "\n",
    "🌡️ Sıcaklık (Temperature)\n",
    "💧 Nem (Humidity)\n",
    "🌬️ Rüzgar Hızı (Wind Speed)\n",
    "☔ Yağış Oranı (Precipitation %)\n",
    "☁️ Bulut Örtüsü (Cloud Cover)\n",
    "📈 Atmosfer Basıncı (Atmospheric Pressure)\n",
    "🌞 UV İndeksi (UV Index)\n",
    "🌿 Mevsim (Season)\n",
    "👁️ Görüş Mesafesi (Visibility)\n",
    "📍 Konum (Location)\n",
    "🌦️ Hava Türü (Weather Type - Hedef Değişken)\n",
    "Veri seti üzerinde öncelikle eksik verilerin kontrolü yapılmış, ardından kategorik sütunlar sayısal verilere dönüştürülmüştür. Eğitim ve test setlerine ayrılan veri üzerinde Random Forest sınıflandırıcısı kullanılarak model eğitilmiştir. Modelin performansı doğruluk oranı (accuracy), sınıflandırma raporu (classification report) ve karışıklık matrisi (confusion matrix) kullanılarak değerlendirilmiştir. Ayrıca, rastgele bir gün seçilerek tahmin yapılmış ve bu tahminin gerçek değer ile karşılaştırılması sağlanmıştır.\n",
    "\n",
    "📊 Sonuçlar\n",
    "Modelin performansı aşağıdaki gibi elde edilmiştir:\n",
    "\n",
    "Accuracy: 0.91"
   ]
  },
  {
   "cell_type": "code",
   "execution_count": 16,
   "id": "68cb4cbe",
   "metadata": {},
   "outputs": [],
   "source": [
    "import pandas as pd\n",
    "import random\n",
    "from sklearn.model_selection import train_test_split\n",
    "from sklearn.ensemble import RandomForestClassifier\n",
    "from sklearn.metrics import classification_report, accuracy_score, confusion_matrix\n",
    "import seaborn as sns\n",
    "import matplotlib.pyplot as plt\n",
    "from sklearn.preprocessing import LabelEncoder"
   ]
  },
  {
   "cell_type": "code",
   "execution_count": 4,
   "id": "6385a2c7",
   "metadata": {},
   "outputs": [],
   "source": [
    "# Veri setini yükleyin\n",
    "file_path = r'C:\\Users\\realb\\Desktop\\hava durumu tahmin modeli\\weather_classification_data.csv'  # Dosya yolunuza göre değiştirin\n",
    "data = pd.read_csv(file_path)"
   ]
  },
  {
   "cell_type": "code",
   "execution_count": 5,
   "id": "38aa5cc1",
   "metadata": {},
   "outputs": [
    {
     "name": "stdout",
     "output_type": "stream",
     "text": [
      "Temperature             0\n",
      "Humidity                0\n",
      "Wind Speed              0\n",
      "Precipitation (%)       0\n",
      "Cloud Cover             0\n",
      "Atmospheric Pressure    0\n",
      "UV Index                0\n",
      "Season                  0\n",
      "Visibility (km)         0\n",
      "Location                0\n",
      "Weather Type            0\n",
      "dtype: int64\n"
     ]
    }
   ],
   "source": [
    "# Eksik değerleri kontrol edin\n",
    "print(data.isnull().sum())"
   ]
  },
  {
   "cell_type": "code",
   "execution_count": 6,
   "id": "7f47edae",
   "metadata": {},
   "outputs": [],
   "source": [
    "# Kategorik sütunları sayısal verilere dönüştürmek için LabelEncoder kullanın\n",
    "label_encoder = LabelEncoder()"
   ]
  },
  {
   "cell_type": "code",
   "execution_count": 7,
   "id": "148a8990",
   "metadata": {},
   "outputs": [],
   "source": [
    "# Kategorik sütunları dönüştürün\n",
    "data['Cloud Cover'] = label_encoder.fit_transform(data['Cloud Cover'])\n",
    "data['Season'] = label_encoder.fit_transform(data['Season'])\n",
    "data['Location'] = label_encoder.fit_transform(data['Location'])\n",
    "data['Weather Type'] = label_encoder.fit_transform(data['Weather Type'])"
   ]
  },
  {
   "cell_type": "code",
   "execution_count": 8,
   "id": "6f08f68b",
   "metadata": {},
   "outputs": [],
   "source": [
    "# Özellikleri (X) ve hedef değişkeni (y) ayırın\n",
    "X = data.drop(columns='Weather Type')\n",
    "y = data['Weather Type']"
   ]
  },
  {
   "cell_type": "code",
   "execution_count": 9,
   "id": "7f5c0337",
   "metadata": {},
   "outputs": [],
   "source": [
    "# Veri setini eğitim ve test setlerine ayırın\n",
    "X_train, X_test, y_train, y_test = train_test_split(X, y, test_size=0.2, random_state=42)"
   ]
  },
  {
   "cell_type": "code",
   "execution_count": 10,
   "id": "86fcc2a4",
   "metadata": {},
   "outputs": [],
   "source": [
    "# Random Forest sınıflandırıcısını başlatın\n",
    "rf_classifier = RandomForestClassifier(random_state=42)"
   ]
  },
  {
   "cell_type": "code",
   "execution_count": 11,
   "id": "83162d07",
   "metadata": {},
   "outputs": [
    {
     "data": {
      "text/html": [
       "<style>#sk-container-id-1 {color: black;}#sk-container-id-1 pre{padding: 0;}#sk-container-id-1 div.sk-toggleable {background-color: white;}#sk-container-id-1 label.sk-toggleable__label {cursor: pointer;display: block;width: 100%;margin-bottom: 0;padding: 0.3em;box-sizing: border-box;text-align: center;}#sk-container-id-1 label.sk-toggleable__label-arrow:before {content: \"▸\";float: left;margin-right: 0.25em;color: #696969;}#sk-container-id-1 label.sk-toggleable__label-arrow:hover:before {color: black;}#sk-container-id-1 div.sk-estimator:hover label.sk-toggleable__label-arrow:before {color: black;}#sk-container-id-1 div.sk-toggleable__content {max-height: 0;max-width: 0;overflow: hidden;text-align: left;background-color: #f0f8ff;}#sk-container-id-1 div.sk-toggleable__content pre {margin: 0.2em;color: black;border-radius: 0.25em;background-color: #f0f8ff;}#sk-container-id-1 input.sk-toggleable__control:checked~div.sk-toggleable__content {max-height: 200px;max-width: 100%;overflow: auto;}#sk-container-id-1 input.sk-toggleable__control:checked~label.sk-toggleable__label-arrow:before {content: \"▾\";}#sk-container-id-1 div.sk-estimator input.sk-toggleable__control:checked~label.sk-toggleable__label {background-color: #d4ebff;}#sk-container-id-1 div.sk-label input.sk-toggleable__control:checked~label.sk-toggleable__label {background-color: #d4ebff;}#sk-container-id-1 input.sk-hidden--visually {border: 0;clip: rect(1px 1px 1px 1px);clip: rect(1px, 1px, 1px, 1px);height: 1px;margin: -1px;overflow: hidden;padding: 0;position: absolute;width: 1px;}#sk-container-id-1 div.sk-estimator {font-family: monospace;background-color: #f0f8ff;border: 1px dotted black;border-radius: 0.25em;box-sizing: border-box;margin-bottom: 0.5em;}#sk-container-id-1 div.sk-estimator:hover {background-color: #d4ebff;}#sk-container-id-1 div.sk-parallel-item::after {content: \"\";width: 100%;border-bottom: 1px solid gray;flex-grow: 1;}#sk-container-id-1 div.sk-label:hover label.sk-toggleable__label {background-color: #d4ebff;}#sk-container-id-1 div.sk-serial::before {content: \"\";position: absolute;border-left: 1px solid gray;box-sizing: border-box;top: 0;bottom: 0;left: 50%;z-index: 0;}#sk-container-id-1 div.sk-serial {display: flex;flex-direction: column;align-items: center;background-color: white;padding-right: 0.2em;padding-left: 0.2em;position: relative;}#sk-container-id-1 div.sk-item {position: relative;z-index: 1;}#sk-container-id-1 div.sk-parallel {display: flex;align-items: stretch;justify-content: center;background-color: white;position: relative;}#sk-container-id-1 div.sk-item::before, #sk-container-id-1 div.sk-parallel-item::before {content: \"\";position: absolute;border-left: 1px solid gray;box-sizing: border-box;top: 0;bottom: 0;left: 50%;z-index: -1;}#sk-container-id-1 div.sk-parallel-item {display: flex;flex-direction: column;z-index: 1;position: relative;background-color: white;}#sk-container-id-1 div.sk-parallel-item:first-child::after {align-self: flex-end;width: 50%;}#sk-container-id-1 div.sk-parallel-item:last-child::after {align-self: flex-start;width: 50%;}#sk-container-id-1 div.sk-parallel-item:only-child::after {width: 0;}#sk-container-id-1 div.sk-dashed-wrapped {border: 1px dashed gray;margin: 0 0.4em 0.5em 0.4em;box-sizing: border-box;padding-bottom: 0.4em;background-color: white;}#sk-container-id-1 div.sk-label label {font-family: monospace;font-weight: bold;display: inline-block;line-height: 1.2em;}#sk-container-id-1 div.sk-label-container {text-align: center;}#sk-container-id-1 div.sk-container {/* jupyter's `normalize.less` sets `[hidden] { display: none; }` but bootstrap.min.css set `[hidden] { display: none !important; }` so we also need the `!important` here to be able to override the default hidden behavior on the sphinx rendered scikit-learn.org. See: https://github.com/scikit-learn/scikit-learn/issues/21755 */display: inline-block !important;position: relative;}#sk-container-id-1 div.sk-text-repr-fallback {display: none;}</style><div id=\"sk-container-id-1\" class=\"sk-top-container\"><div class=\"sk-text-repr-fallback\"><pre>RandomForestClassifier(random_state=42)</pre><b>In a Jupyter environment, please rerun this cell to show the HTML representation or trust the notebook. <br />On GitHub, the HTML representation is unable to render, please try loading this page with nbviewer.org.</b></div><div class=\"sk-container\" hidden><div class=\"sk-item\"><div class=\"sk-estimator sk-toggleable\"><input class=\"sk-toggleable__control sk-hidden--visually\" id=\"sk-estimator-id-1\" type=\"checkbox\" checked><label for=\"sk-estimator-id-1\" class=\"sk-toggleable__label sk-toggleable__label-arrow\">RandomForestClassifier</label><div class=\"sk-toggleable__content\"><pre>RandomForestClassifier(random_state=42)</pre></div></div></div></div></div>"
      ],
      "text/plain": [
       "RandomForestClassifier(random_state=42)"
      ]
     },
     "execution_count": 11,
     "metadata": {},
     "output_type": "execute_result"
    }
   ],
   "source": [
    "# Modeli eğitin\n",
    "rf_classifier.fit(X_train, y_train)"
   ]
  },
  {
   "cell_type": "code",
   "execution_count": 12,
   "id": "6c4a4f43",
   "metadata": {},
   "outputs": [],
   "source": [
    "# Tahminler yapın\n",
    "y_pred = rf_classifier.predict(X_test)"
   ]
  },
  {
   "cell_type": "code",
   "execution_count": 13,
   "id": "17dab081",
   "metadata": {},
   "outputs": [
    {
     "name": "stdout",
     "output_type": "stream",
     "text": [
      "Accuracy: 0.9106060606060606\n",
      "Classification Report:\n",
      "              precision    recall  f1-score   support\n",
      "\n",
      "           0       0.87      0.89      0.88       651\n",
      "           1       0.91      0.91      0.91       647\n",
      "           2       0.93      0.94      0.94       701\n",
      "           3       0.93      0.90      0.91       641\n",
      "\n",
      "    accuracy                           0.91      2640\n",
      "   macro avg       0.91      0.91      0.91      2640\n",
      "weighted avg       0.91      0.91      0.91      2640\n",
      "\n"
     ]
    }
   ],
   "source": [
    "# Modeli değerlendirin\n",
    "accuracy = accuracy_score(y_test, y_pred)\n",
    "report = classification_report(y_test, y_pred)\n",
    "conf_matrix = confusion_matrix(y_test, y_pred)\n",
    "\n",
    "print(f'Accuracy: {accuracy}')\n",
    "print('Classification Report:')\n",
    "print(report)"
   ]
  },
  {
   "cell_type": "code",
   "execution_count": 14,
   "id": "2897d46f",
   "metadata": {
    "scrolled": false
   },
   "outputs": [
    {
     "data": {
      "image/png": "[encoded data removed]",
      "text/plain": [
       "<Figure size 1000x700 with 2 Axes>"
      ]
     },
     "metadata": {},
     "output_type": "display_data"
    }
   ],
   "source": [
    "# Confusion matrix'i görselleştirin\n",
    "plt.figure(figsize=(10, 7))\n",
    "sns.heatmap(conf_matrix, annot=True, fmt='d', cmap='Blues')\n",
    "plt.xlabel('Predicted')\n",
    "plt.ylabel('Actual')\n",
    "plt.title('Confusion Matrix')\n",
    "plt.show()"
   ]
  },
  {
   "cell_type": "code",
   "execution_count": 17,
   "id": "58798dbe",
   "metadata": {},
   "outputs": [
    {
     "name": "stdout",
     "output_type": "stream",
     "text": [
      "Seçilen günün özellikleri: \n",
      "Temperature              -4.00\n",
      "Humidity                 97.00\n",
      "Wind Speed               15.00\n",
      "Precipitation (%)        51.00\n",
      "Cloud Cover               2.00\n",
      "Atmospheric Pressure    994.13\n",
      "UV Index                  0.00\n",
      "Season                    3.00\n",
      "Visibility (km)           2.00\n",
      "Location                  1.00\n",
      "Name: 2055, dtype: float64\n",
      "Gerçek Hava Türü: Snowy\n",
      "Tahmin Edilen Hava Türü: Snowy\n"
     ]
    },
    {
     "name": "stderr",
     "output_type": "stream",
     "text": [
      "C:\\Users\\realb\\anaconda3\\Lib\\site-packages\\sklearn\\base.py:464: UserWarning: X does not have valid feature names, but RandomForestClassifier was fitted with feature names\n",
      "  warnings.warn(\n"
     ]
    }
   ],
   "source": [
    "# Rastgele bir indeks seçin\n",
    "random_index = random.randint(0, len(X_test) - 1)\n",
    "\n",
    "# Seçilen günün özelliklerini alın\n",
    "random_day_features = X_test.iloc[random_index]\n",
    "random_day_actual = y_test.iloc[random_index]\n",
    "\n",
    "# Tahmin yapın\n",
    "random_day_prediction = rf_classifier.predict([random_day_features])\n",
    "\n",
    "# Sonuçları karşılaştırın\n",
    "print(f\"Seçilen günün özellikleri: \\n{random_day_features}\")\n",
    "print(f\"Gerçek Hava Türü: {label_encoder.inverse_transform([random_day_actual])[0]}\")\n",
    "print(f\"Tahmin Edilen Hava Türü: {label_encoder.inverse_transform(random_day_prediction)[0]}\")"
   ]
  }
 ],
 "metadata": {
  "kernelspec": {
   "display_name": "Python 3 (ipykernel)",
   "language": "python",
   "name": "python3"
  },
  "language_info": {
   "codemirror_mode": {
    "name": "ipython",
    "version": 3
   },
   "file_extension": ".py",
   "mimetype": "text/x-python",
   "name": "python",
   "nbconvert_exporter": "python",
   "pygments_lexer": "ipython3",
   "version": "3.11.5"
  }
 },
 "nbformat": 4,
 "nbformat_minor": 5
}
